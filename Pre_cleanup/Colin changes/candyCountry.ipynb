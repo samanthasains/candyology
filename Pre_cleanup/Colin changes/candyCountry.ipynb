{
 "cells": [
  {
   "cell_type": "code",
   "execution_count": 4,
   "metadata": {},
   "outputs": [],
   "source": [
    "import pandas as pd\n",
    "from matplotlib import pyplot as plt"
   ]
  },
  {
   "cell_type": "code",
   "execution_count": 5,
   "metadata": {},
   "outputs": [],
   "source": [
    "USA = pd.read_csv(\"USA.csv\", low_memory=False)\n",
    "China = pd.read_csv(\"China.csv\", low_memory=False)\n",
    "Russia = pd.read_csv(\"Russia.csv\", low_memory=False)"
   ]
  },
  {
   "cell_type": "code",
   "execution_count": 7,
   "metadata": {},
   "outputs": [],
   "source": []
  },
  {
   "cell_type": "code",
   "execution_count": 23,
   "metadata": {},
   "outputs": [],
   "source": [
    "USA_sum = USA['Total Sugar Production'].sum()\n",
    "China_sum = China['Total Sugar Production'].sum()\n",
    "Russia_sum = Russia['Total Sugar Production'].sum()\n",
    "\n",
    "lst = [USA_sum, China_sum, Russia_sum]\n",
    "labels = \"USA\", \"China\", \"Russia\""
   ]
  },
  {
   "cell_type": "code",
   "execution_count": 24,
   "metadata": {},
   "outputs": [
    {
     "data": {
      "text/plain": [
       "([<matplotlib.patches.Wedge at 0x7fc0843dc8e0>,\n",
       "  <matplotlib.patches.Wedge at 0x7fc0843dcd90>,\n",
       "  <matplotlib.patches.Wedge at 0x7fc0843e9250>],\n",
       " [Text(0.5353770461053041, 0.9609221708877151, 'USA'),\n",
       "  Text(-0.9436873703817682, -0.5652027485619153, 'China'),\n",
       "  Text(0.9530403717651748, -0.5492850351008097, 'Russia')])"
      ]
     },
     "execution_count": 24,
     "metadata": {},
     "output_type": "execute_result"
    },
    {
     "data": {
      "image/png": "[encoded data removed]",
      "text/plain": [
       "<Figure size 432x288 with 1 Axes>"
      ]
     },
     "metadata": {},
     "output_type": "display_data"
    }
   ],
   "source": [
    "plt.pie(lst, labels=labels)"
   ]
  },
  {
   "cell_type": "code",
   "execution_count": null,
   "metadata": {},
   "outputs": [],
   "source": []
  }
 ],
 "metadata": {
  "kernelspec": {
   "display_name": "Python 3",
   "language": "python",
   "name": "python3"
  },
  "language_info": {
   "codemirror_mode": {
    "name": "ipython",
    "version": 3
   },
   "file_extension": ".py",
   "mimetype": "text/x-python",
   "name": "python",
   "nbconvert_exporter": "python",
   "pygments_lexer": "ipython3",
   "version": "3.8.3"
  }
 },
 "nbformat": 4,
 "nbformat_minor": 4
}
